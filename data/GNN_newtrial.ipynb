{
 "cells": [
  {
   "cell_type": "code",
   "execution_count": 1,
   "id": "df5d63bf",
   "metadata": {},
   "outputs": [],
   "source": [
    "import pandas as pd\n",
    "import torch\n",
    "from sklearn.model_selection import train_test_split\n",
    "from datacleaner import *\n",
    "from abc import ABC\n",
    "import pandas as pd\n",
    "import os\n",
    "from torch_geometric.data import Dataset\n",
    "from torch_geometric.utils import from_networkx\n",
    "import torch\n",
    "import networkx as nx\n",
    "import numpy as np\n",
    "import dgl\n",
    "from tqdm import tqdm\n",
    "import wandb"
   ]
  },
  {
   "cell_type": "code",
   "execution_count": 2,
   "id": "7d92dfd7",
   "metadata": {},
   "outputs": [
    {
     "name": "stdout",
     "output_type": "stream",
     "text": [
      "The number of negative values in target_HF column is: 12479\n",
      "The number of positive values in target_HF column is: 7917\n"
     ]
    }
   ],
   "source": [
    "def get_cleaned_df():\n",
    "    df = get_dataframe()\n",
    "    \n",
    "    #Count the number of diagnosis risk factors\n",
    "    icd9_cols = df.filter(regex='^icd9').columns\n",
    "\n",
    "    # Find all columns with age of diagnoses\n",
    "    age_cols = df.filter(regex='admit_age').columns\n",
    "    age_cols = age_cols[:-1] #don't get the HF age cause we don't want to drop that one\n",
    "\n",
    "    # Find all columns with icu stay of diagnoses\n",
    "    icu_cols = df.filter(regex='icu_stay').columns\n",
    "\n",
    "    # Find columns associated with echo data\n",
    "    echo_cols = ['height', 'weight', 'bpsys', 'bpdias', 'hr', 'EF']\n",
    "    \n",
    "    #Create a new dataframe that has the groupings\n",
    "    grouped_df = pd.DataFrame()\n",
    "\n",
    "    # group the diagnoses\n",
    "    for i in range(len(icd9_cols)):\n",
    "        # stack the three columns into a single list column\n",
    "        df['new_'+icd9_cols[i]] = df.apply(lambda x: [x[icd9_cols[i]], x[age_cols[i]], x[icu_cols[i]]], axis=1)\n",
    "        grouped_df['new_'+icd9_cols[i]] = (df['new_'+icd9_cols[i]])\n",
    "        df.drop(('new_'+icd9_cols[i]), axis=1)\n",
    "        \n",
    "    #group all echo variables with age and echo_icu_stay\n",
    "    for i in range(len(echo_cols)):\n",
    "        # stack the three columns into a single list column\n",
    "        df['new_'+echo_cols[i]] = df.apply(lambda x: [x[echo_cols[i]], x['age'], x['echo_icu_stay']], axis=1)\n",
    "        grouped_df['echo_'+echo_cols[i]] = (df['new_'+echo_cols[i]])\n",
    "        df.drop('new_'+echo_cols[i], axis=1)\n",
    "        \n",
    "    #add gender - standalone\n",
    "    # replace 'M' and 'F' with 1 and 2, respectively\n",
    "    df['gender'] = df['gender'].replace({'M': 1, 'F': 2})\n",
    "    grouped_df['gender'] = df.apply(lambda x: [x['gender'], 0, 0], axis=1)\n",
    "\n",
    "    #add target HF\n",
    "    grouped_df['HF'] = df['target_HF']\n",
    "    \n",
    "    return grouped_df\n",
    "\n",
    "\n",
    "grouped_df = get_cleaned_df()\n",
    "val_size = 0.1\n",
    "test_size = 0.1\n",
    "# split data into training and test sets\n",
    "train_data, test_data = train_test_split(grouped_df, test_size=test_size)\n",
    "train_data, val_data = train_test_split(train_data, test_size=val_size/(1-test_size))"
   ]
  },
  {
   "cell_type": "code",
   "execution_count": 3,
   "id": "f46a7ac7",
   "metadata": {},
   "outputs": [
    {
     "data": {
      "text/plain": [
       "47"
      ]
     },
     "execution_count": 3,
     "metadata": {},
     "output_type": "execute_result"
    }
   ],
   "source": [
    "len(train_data.columns)"
   ]
  },
  {
   "cell_type": "code",
   "execution_count": 4,
   "id": "ddf120a1",
   "metadata": {},
   "outputs": [],
   "source": [
    "class MIMICDataset(Dataset, ABC):\n",
    "    def __init__(self, data_df):\n",
    "\n",
    "        super().__init__()\n",
    "        \n",
    "        # Extract the features and labels\n",
    "        features_tensor = torch.tensor([], dtype=torch.float)\n",
    "        labels_tensor = torch.tensor([], dtype=torch.long)\n",
    "        \n",
    "        # Extract the labels\n",
    "        self.labels = torch.tensor(data_df['HF'].tolist(), dtype=torch.long)\n",
    "        \n",
    "        # Extract the image data\n",
    "        self.data = torch.FloatTensor(data_df.loc[:, data_df.columns != 'HF'].values.tolist())\n",
    "        #print(self.data.shape)\n",
    "        \n",
    "        # Find the proportion of each digit in the set\n",
    "        self.class_weights = 1 / np.unique(self.labels, return_counts=True)[1]\n",
    "        #print(np.unique(self.labels, return_counts=True)[1])\n",
    "        self.class_weights = self.class_weights[self.labels]\n",
    "        #print(self.class_weights)\n",
    "        \n",
    "        self.nx_graph = nx.complete_graph(46) \n",
    "        \n",
    "        self.num_samples = data_df.shape[0]    \n",
    "\n",
    "    def get(self, idx):\n",
    "\n",
    "        # Retrieve the sample\n",
    "        sample_features = self.data[idx].view(46, -1).unsqueeze(0).unsqueeze(0) #TODO\n",
    "\n",
    "        # Retrieve the label\n",
    "        label = self.labels[idx]\n",
    "\n",
    "        # Create the PyG data from the graph structure\n",
    "        #g = from_networkx(self.nx_graph)\n",
    "        #g = dgl.from_networkx(nx_g)\n",
    "        # Create DGL graph from networkx\n",
    "        g = from_networkx(self.nx_graph)\n",
    "\n",
    "        # Add data and label to the PyG data\n",
    "        g.y = label\n",
    "        g.features = sample_features\n",
    "        g.nx_graph = nx.complete_graph(46) \n",
    "\n",
    "        return g\n",
    "\n",
    "    def len(self) -> int:\n",
    "        return self.num_samples"
   ]
  },
  {
   "cell_type": "code",
   "execution_count": 5,
   "id": "3c8b3c8e",
   "metadata": {},
   "outputs": [
    {
     "name": "stderr",
     "output_type": "stream",
     "text": [
      "/var/folders/x4/_sfmqqbj0sq0f3v44_gt4f7h0000gn/T/ipykernel_69662/2760376088.py:11: DeprecationWarning: an integer is required (got type float).  Implicit conversion to integers using __int__ is deprecated, and may be removed in a future version of Python.\n",
      "  self.labels = torch.tensor(data_df['HF'].tolist(), dtype=torch.long)\n"
     ]
    }
   ],
   "source": [
    "train_dataset = MIMICDataset(train_data)\n",
    "val_dataset = MIMICDataset(val_data)\n",
    "test_dataset = MIMICDataset(test_data)"
   ]
  },
  {
   "cell_type": "code",
   "execution_count": 6,
   "id": "c535aeb3",
   "metadata": {},
   "outputs": [
    {
     "name": "stdout",
     "output_type": "stream",
     "text": [
      "The training set has 16316 samples.\n",
      "The training set has 2040 samples.\n",
      "The test set has 2040 samples.\n"
     ]
    }
   ],
   "source": [
    "print(\"The training set has {} samples.\".format(len(train_dataset)))\n",
    "print(\"The training set has {} samples.\".format(len(val_dataset)))\n",
    "print(\"The test set has {} samples.\".format(len(test_dataset)))"
   ]
  },
  {
   "cell_type": "code",
   "execution_count": 7,
   "id": "4bcfe570",
   "metadata": {},
   "outputs": [],
   "source": [
    "from torch.utils.data import WeightedRandomSampler\n",
    "from torch.optim import Adam\n",
    "import torch.nn as nn\n",
    "from torch_geometric.nn import MessagePassing, Sequential, GCNConv, global_add_pool, global_mean_pool\n",
    "from sklearn.metrics import accuracy_score\n",
    "import numpy as np\n",
    "import time\n",
    "\n",
    "from math import floor\n",
    "import torch.nn.functional as F\n",
    "from torch_geometric.loader import DataLoader"
   ]
  },
  {
   "cell_type": "code",
   "execution_count": 8,
   "id": "1a327c00",
   "metadata": {},
   "outputs": [],
   "source": [
    "num_samples = 128\n",
    "batch_size = 128\n",
    "train_sampler = WeightedRandomSampler(weights=train_dataset.class_weights, num_samples=len(train_dataset), \n",
    "                                      replacement=False)\n",
    "val_sampler = WeightedRandomSampler(weights=val_dataset.class_weights, num_samples=len(val_dataset), \n",
    "                                      replacement=False)                                      \n",
    "test_sampler = WeightedRandomSampler(weights=test_dataset.class_weights, num_samples=len(test_dataset), \n",
    "                                     replacement=False)\n"
   ]
  },
  {
   "cell_type": "code",
   "execution_count": 24,
   "id": "f4445e1e",
   "metadata": {},
   "outputs": [],
   "source": [
    "trainloader = DataLoader(train_dataset, batch_size=batch_size, drop_last=True, shuffle=True)#,sampler=train_sampler)\n",
    "valloader = DataLoader(val_dataset, batch_size=batch_size, drop_last=True, shuffle=True)#sampler=val_sampler)\n",
    "testloader = DataLoader(test_dataset, batch_size=batch_size, drop_last=True, shuffle=True)#sampler=test_sampler)"
   ]
  },
  {
   "cell_type": "code",
   "execution_count": 25,
   "id": "bee0ed6e",
   "metadata": {},
   "outputs": [],
   "source": [
    "class GCNClassifier(nn.Module):\n",
    "    def __init__(self,\n",
    "                 input_feature_dim,\n",
    "                 dropout_p,\n",
    "                 gnn_hidden_dims,\n",
    "                 mlp_hidden_dim,\n",
    "                 num_classes):\n",
    "        super().__init__()\n",
    "\n",
    "        self.layers = nn.ModuleList()\n",
    "\n",
    "        # GNN layers\n",
    "        for gnn_hidden_dim in gnn_hidden_dims:\n",
    "            self.layers.append(Sequential('x, edge_index', [(GCNConv(in_channels=input_feature_dim,\n",
    "                                                                     out_channels=gnn_hidden_dim), 'x, edge_index -> x'),\n",
    "                                                            nn.BatchNorm1d(gnn_hidden_dim),\n",
    "                                                            nn.Dropout(p=dropout_p),\n",
    "                                                            nn.ReLU(inplace=True)]))\n",
    "            input_feature_dim = gnn_hidden_dim\n",
    "\n",
    "        # Output MLP layers\n",
    "        self.output_mlp = nn.Sequential(nn.Linear(in_features=gnn_hidden_dims[-1],\n",
    "                                                  out_features=mlp_hidden_dim),\n",
    "                                        nn.BatchNorm1d(mlp_hidden_dim),\n",
    "                                        nn.Dropout(p=dropout_p),\n",
    "                                        nn.ReLU(inplace=True),\n",
    "                                        nn.Linear(in_features=mlp_hidden_dim,\n",
    "                                                  out_features=num_classes),\n",
    "                                        nn.Sigmoid())\n",
    "        \n",
    "\n",
    "    def forward(self, g):\n",
    "        h = g.features.squeeze()\n",
    "        \n",
    "        # Compute min and max values for each feature\n",
    "        min_values, _ = torch.min(h, dim=0, keepdim=True)\n",
    "        max_values, _ = torch.max(h, dim=0, keepdim=True)\n",
    "\n",
    "        # Add small epsilon to denominator to prevent division by zero\n",
    "        epsilon = 1e-8\n",
    "        denominator = max_values - min_values + epsilon\n",
    "\n",
    "        # Normalize each feature\n",
    "        h = (h - min_values) / denominator\n",
    "\n",
    "        h = torch.reshape(h, [h.shape[0]*h.shape[1], -1])\n",
    "        #print(h.shape)\n",
    "        edge_index = g.edge_index\n",
    "        #print(edge_index.shape)\n",
    "        \n",
    "        # GNN layers\n",
    "        for gnn_layer in self.layers:\n",
    "            h = gnn_layer(h, edge_index)\n",
    "\n",
    "        # Pool node embeddings to create the graph embedding\n",
    "        h = global_mean_pool(h, g.batch)\n",
    "\n",
    "        # Output MLP\n",
    "        h = self.output_mlp(h)\n",
    "        h = h.squeeze()\n",
    "\n",
    "        return h\n",
    "        "
   ]
  },
  {
   "cell_type": "code",
   "execution_count": 26,
   "id": "842ef87a",
   "metadata": {},
   "outputs": [
    {
     "name": "stdout",
     "output_type": "stream",
     "text": [
      "GCNClassifier(\n",
      "  (layers): ModuleList(\n",
      "    (0): Sequential(\n",
      "      (0): GCNConv(3, 64)\n",
      "      (1): BatchNorm1d(64, eps=1e-05, momentum=0.1, affine=True, track_running_stats=True)\n",
      "      (2): Dropout(p=0.3, inplace=False)\n",
      "      (3): ReLU(inplace=True)\n",
      "    )\n",
      "    (1): Sequential(\n",
      "      (0): GCNConv(64, 64)\n",
      "      (1): BatchNorm1d(64, eps=1e-05, momentum=0.1, affine=True, track_running_stats=True)\n",
      "      (2): Dropout(p=0.3, inplace=False)\n",
      "      (3): ReLU(inplace=True)\n",
      "    )\n",
      "  )\n",
      "  (output_mlp): Sequential(\n",
      "    (0): Linear(in_features=64, out_features=64, bias=True)\n",
      "    (1): BatchNorm1d(64, eps=1e-05, momentum=0.1, affine=True, track_running_stats=True)\n",
      "    (2): Dropout(p=0.3, inplace=False)\n",
      "    (3): ReLU(inplace=True)\n",
      "    (4): Linear(in_features=64, out_features=1, bias=True)\n",
      "    (5): Sigmoid()\n",
      "  )\n",
      ")\n"
     ]
    }
   ],
   "source": [
    "gnn_classifiers = GCNClassifier(input_feature_dim=3, #TODO\n",
    "                                dropout_p=0.3,\n",
    "                                gnn_hidden_dims=[64, 64],\n",
    "                                mlp_hidden_dim=64,\n",
    "                                num_classes=1)\n",
    "\n",
    "print(gnn_classifiers)"
   ]
  },
  {
   "cell_type": "code",
   "execution_count": 27,
   "id": "6e4d73a3",
   "metadata": {},
   "outputs": [],
   "source": [
    "# Create the loss function and the optimizer\n",
    "optimizer = Adam(list(gnn_classifiers.parameters()), lr=0.001)\n",
    "loss_func = nn.BCELoss()\n",
    "\n",
    "# Define the scheduler\n",
    "scheduler = torch.optim.lr_scheduler.ReduceLROnPlateau(optimizer, mode='min', factor=0.5, patience=2, threshold=0.01, min_lr=0.000001)\n"
   ]
  },
  {
   "cell_type": "code",
   "execution_count": 28,
   "id": "e4fea2b5",
   "metadata": {
    "scrolled": true
   },
   "outputs": [
    {
     "name": "stderr",
     "output_type": "stream",
     "text": [
      "100%|█████████████████████████████████████████| 127/127 [01:59<00:00,  1.06it/s]\n",
      "100%|███████████████████████████████████████████| 15/15 [00:12<00:00,  1.19it/s]\n"
     ]
    },
    {
     "name": "stdout",
     "output_type": "stream",
     "text": [
      "Epoch 1/100, Train Loss: 0.6042, Val Loss: 0.5871, Train Acc: 0.6698, Val Acc: 0.6917\n"
     ]
    },
    {
     "name": "stderr",
     "output_type": "stream",
     "text": [
      "100%|█████████████████████████████████████████| 127/127 [01:58<00:00,  1.07it/s]\n",
      "100%|███████████████████████████████████████████| 15/15 [00:13<00:00,  1.08it/s]\n"
     ]
    },
    {
     "name": "stdout",
     "output_type": "stream",
     "text": [
      "Epoch 2/100, Train Loss: 0.5958, Val Loss: 0.5907, Train Acc: 0.6807, Val Acc: 0.6937\n"
     ]
    },
    {
     "name": "stderr",
     "output_type": "stream",
     "text": [
      "100%|█████████████████████████████████████████| 127/127 [02:01<00:00,  1.05it/s]\n",
      "100%|███████████████████████████████████████████| 15/15 [00:12<00:00,  1.19it/s]\n"
     ]
    },
    {
     "name": "stdout",
     "output_type": "stream",
     "text": [
      "Epoch 3/100, Train Loss: 0.5958, Val Loss: 0.5831, Train Acc: 0.6785, Val Acc: 0.6943\n"
     ]
    },
    {
     "name": "stderr",
     "output_type": "stream",
     "text": [
      "100%|█████████████████████████████████████████| 127/127 [02:04<00:00,  1.02it/s]\n",
      "100%|███████████████████████████████████████████| 15/15 [00:13<00:00,  1.11it/s]\n"
     ]
    },
    {
     "name": "stdout",
     "output_type": "stream",
     "text": [
      "Epoch 4/100, Train Loss: 0.5937, Val Loss: 0.5882, Train Acc: 0.6799, Val Acc: 0.6911\n"
     ]
    },
    {
     "name": "stderr",
     "output_type": "stream",
     "text": [
      "100%|█████████████████████████████████████████| 127/127 [01:59<00:00,  1.06it/s]\n",
      "100%|███████████████████████████████████████████| 15/15 [00:13<00:00,  1.14it/s]\n"
     ]
    },
    {
     "name": "stdout",
     "output_type": "stream",
     "text": [
      "Epoch 5/100, Train Loss: 0.5934, Val Loss: 0.5779, Train Acc: 0.6794, Val Acc: 0.7089\n"
     ]
    },
    {
     "name": "stderr",
     "output_type": "stream",
     "text": [
      "100%|█████████████████████████████████████████| 127/127 [02:01<00:00,  1.04it/s]\n",
      "100%|███████████████████████████████████████████| 15/15 [00:13<00:00,  1.14it/s]\n"
     ]
    },
    {
     "name": "stdout",
     "output_type": "stream",
     "text": [
      "Epoch 6/100, Train Loss: 0.5931, Val Loss: 0.5867, Train Acc: 0.6812, Val Acc: 0.7068\n"
     ]
    },
    {
     "name": "stderr",
     "output_type": "stream",
     "text": [
      "100%|█████████████████████████████████████████| 127/127 [01:58<00:00,  1.07it/s]\n",
      "100%|███████████████████████████████████████████| 15/15 [00:12<00:00,  1.19it/s]\n"
     ]
    },
    {
     "name": "stdout",
     "output_type": "stream",
     "text": [
      "Epoch 7/100, Train Loss: 0.5921, Val Loss: 0.5844, Train Acc: 0.6826, Val Acc: 0.7000\n"
     ]
    },
    {
     "name": "stderr",
     "output_type": "stream",
     "text": [
      "100%|█████████████████████████████████████████| 127/127 [02:07<00:00,  1.00s/it]\n",
      "100%|███████████████████████████████████████████| 15/15 [00:16<00:00,  1.10s/it]\n"
     ]
    },
    {
     "name": "stdout",
     "output_type": "stream",
     "text": [
      "Epoch 8/100, Train Loss: 0.5924, Val Loss: 0.5795, Train Acc: 0.6805, Val Acc: 0.6995\n"
     ]
    },
    {
     "name": "stderr",
     "output_type": "stream",
     "text": [
      "100%|█████████████████████████████████████████| 127/127 [02:03<00:00,  1.02it/s]\n",
      "100%|███████████████████████████████████████████| 15/15 [00:12<00:00,  1.20it/s]\n"
     ]
    },
    {
     "name": "stdout",
     "output_type": "stream",
     "text": [
      "Epoch 9/100, Train Loss: 0.5916, Val Loss: 0.5796, Train Acc: 0.6822, Val Acc: 0.6995\n"
     ]
    },
    {
     "name": "stderr",
     "output_type": "stream",
     "text": [
      "100%|█████████████████████████████████████████| 127/127 [01:57<00:00,  1.08it/s]\n",
      "100%|███████████████████████████████████████████| 15/15 [00:12<00:00,  1.20it/s]\n"
     ]
    },
    {
     "name": "stdout",
     "output_type": "stream",
     "text": [
      "Epoch 10/100, Train Loss: 0.5916, Val Loss: 0.5824, Train Acc: 0.6801, Val Acc: 0.6880\n"
     ]
    },
    {
     "name": "stderr",
     "output_type": "stream",
     "text": [
      "100%|█████████████████████████████████████████| 127/127 [01:59<00:00,  1.06it/s]\n",
      "100%|███████████████████████████████████████████| 15/15 [00:12<00:00,  1.17it/s]\n"
     ]
    },
    {
     "name": "stdout",
     "output_type": "stream",
     "text": [
      "Epoch 11/100, Train Loss: 0.5903, Val Loss: 0.5830, Train Acc: 0.6836, Val Acc: 0.6953\n"
     ]
    },
    {
     "name": "stderr",
     "output_type": "stream",
     "text": [
      "100%|█████████████████████████████████████████| 127/127 [01:58<00:00,  1.07it/s]\n",
      "100%|███████████████████████████████████████████| 15/15 [00:13<00:00,  1.12it/s]\n"
     ]
    },
    {
     "name": "stdout",
     "output_type": "stream",
     "text": [
      "Epoch 12/100, Train Loss: 0.5911, Val Loss: 0.5818, Train Acc: 0.6807, Val Acc: 0.7036\n"
     ]
    },
    {
     "name": "stderr",
     "output_type": "stream",
     "text": [
      "100%|█████████████████████████████████████████| 127/127 [02:04<00:00,  1.02it/s]\n",
      "100%|███████████████████████████████████████████| 15/15 [00:16<00:00,  1.12s/it]\n"
     ]
    },
    {
     "name": "stdout",
     "output_type": "stream",
     "text": [
      "Epoch 13/100, Train Loss: 0.5907, Val Loss: 0.5818, Train Acc: 0.6804, Val Acc: 0.7016\n"
     ]
    },
    {
     "name": "stderr",
     "output_type": "stream",
     "text": [
      "100%|█████████████████████████████████████████| 127/127 [01:59<00:00,  1.06it/s]\n",
      "100%|███████████████████████████████████████████| 15/15 [00:12<00:00,  1.18it/s]\n"
     ]
    },
    {
     "name": "stdout",
     "output_type": "stream",
     "text": [
      "Epoch 14/100, Train Loss: 0.5900, Val Loss: 0.5797, Train Acc: 0.6820, Val Acc: 0.7016\n"
     ]
    },
    {
     "name": "stderr",
     "output_type": "stream",
     "text": [
      "100%|█████████████████████████████████████████| 127/127 [01:58<00:00,  1.07it/s]\n",
      "100%|███████████████████████████████████████████| 15/15 [00:12<00:00,  1.17it/s]\n"
     ]
    },
    {
     "name": "stdout",
     "output_type": "stream",
     "text": [
      "Epoch 15/100, Train Loss: 0.5902, Val Loss: 0.5814, Train Acc: 0.6799, Val Acc: 0.6969\n"
     ]
    },
    {
     "name": "stderr",
     "output_type": "stream",
     "text": [
      "100%|█████████████████████████████████████████| 127/127 [01:57<00:00,  1.08it/s]\n",
      "100%|███████████████████████████████████████████| 15/15 [00:12<00:00,  1.17it/s]\n"
     ]
    },
    {
     "name": "stdout",
     "output_type": "stream",
     "text": [
      "Epoch 16/100, Train Loss: 0.5907, Val Loss: 0.5851, Train Acc: 0.6812, Val Acc: 0.6906\n"
     ]
    },
    {
     "name": "stderr",
     "output_type": "stream",
     "text": [
      "100%|█████████████████████████████████████████| 127/127 [01:57<00:00,  1.08it/s]\n",
      "100%|███████████████████████████████████████████| 15/15 [00:12<00:00,  1.18it/s]\n"
     ]
    },
    {
     "name": "stdout",
     "output_type": "stream",
     "text": [
      "Epoch 17/100, Train Loss: 0.5912, Val Loss: 0.5800, Train Acc: 0.6828, Val Acc: 0.6974\n"
     ]
    },
    {
     "name": "stderr",
     "output_type": "stream",
     "text": [
      "100%|█████████████████████████████████████████| 127/127 [01:55<00:00,  1.10it/s]\n",
      "100%|███████████████████████████████████████████| 15/15 [00:12<00:00,  1.20it/s]\n"
     ]
    },
    {
     "name": "stdout",
     "output_type": "stream",
     "text": [
      "Epoch 18/100, Train Loss: 0.5895, Val Loss: 0.5822, Train Acc: 0.6812, Val Acc: 0.6901\n"
     ]
    },
    {
     "name": "stderr",
     "output_type": "stream",
     "text": [
      "100%|█████████████████████████████████████████| 127/127 [01:55<00:00,  1.09it/s]\n",
      "100%|███████████████████████████████████████████| 15/15 [00:13<00:00,  1.10it/s]\n"
     ]
    },
    {
     "name": "stdout",
     "output_type": "stream",
     "text": [
      "Epoch 19/100, Train Loss: 0.5908, Val Loss: 0.5817, Train Acc: 0.6833, Val Acc: 0.6969\n"
     ]
    },
    {
     "name": "stderr",
     "output_type": "stream",
     "text": [
      "100%|█████████████████████████████████████████| 127/127 [01:55<00:00,  1.10it/s]\n",
      "100%|███████████████████████████████████████████| 15/15 [00:12<00:00,  1.21it/s]\n"
     ]
    },
    {
     "name": "stdout",
     "output_type": "stream",
     "text": [
      "Epoch 20/100, Train Loss: 0.5893, Val Loss: 0.5827, Train Acc: 0.6823, Val Acc: 0.6943\n"
     ]
    },
    {
     "name": "stderr",
     "output_type": "stream",
     "text": [
      "100%|█████████████████████████████████████████| 127/127 [01:56<00:00,  1.09it/s]\n",
      "100%|███████████████████████████████████████████| 15/15 [00:13<00:00,  1.11it/s]\n"
     ]
    },
    {
     "name": "stdout",
     "output_type": "stream",
     "text": [
      "Epoch 21/100, Train Loss: 0.5914, Val Loss: 0.5851, Train Acc: 0.6820, Val Acc: 0.6927\n"
     ]
    },
    {
     "name": "stderr",
     "output_type": "stream",
     "text": [
      "100%|█████████████████████████████████████████| 127/127 [22:04<00:00, 10.43s/it]\n",
      "100%|███████████████████████████████████████████| 15/15 [00:12<00:00,  1.23it/s]\n"
     ]
    },
    {
     "name": "stdout",
     "output_type": "stream",
     "text": [
      "Epoch 22/100, Train Loss: 0.5904, Val Loss: 0.5832, Train Acc: 0.6839, Val Acc: 0.6870\n"
     ]
    },
    {
     "name": "stderr",
     "output_type": "stream",
     "text": [
      "100%|█████████████████████████████████████████| 127/127 [02:05<00:00,  1.01it/s]\n",
      "100%|███████████████████████████████████████████| 15/15 [00:14<00:00,  1.04it/s]\n"
     ]
    },
    {
     "name": "stdout",
     "output_type": "stream",
     "text": [
      "Epoch 23/100, Train Loss: 0.5899, Val Loss: 0.5812, Train Acc: 0.6809, Val Acc: 0.6958\n"
     ]
    },
    {
     "name": "stderr",
     "output_type": "stream",
     "text": [
      "100%|█████████████████████████████████████████| 127/127 [02:08<00:00,  1.01s/it]\n",
      "100%|███████████████████████████████████████████| 15/15 [00:13<00:00,  1.11it/s]\n"
     ]
    },
    {
     "name": "stdout",
     "output_type": "stream",
     "text": [
      "Epoch 24/100, Train Loss: 0.5912, Val Loss: 0.5773, Train Acc: 0.6803, Val Acc: 0.6927\n"
     ]
    },
    {
     "name": "stderr",
     "output_type": "stream",
     "text": [
      "100%|█████████████████████████████████████████| 127/127 [02:09<00:00,  1.02s/it]\n",
      "100%|███████████████████████████████████████████| 15/15 [00:14<00:00,  1.02it/s]\n"
     ]
    },
    {
     "name": "stdout",
     "output_type": "stream",
     "text": [
      "Epoch 25/100, Train Loss: 0.5895, Val Loss: 0.5798, Train Acc: 0.6820, Val Acc: 0.7026\n"
     ]
    },
    {
     "name": "stderr",
     "output_type": "stream",
     "text": [
      "100%|█████████████████████████████████████████| 127/127 [02:11<00:00,  1.04s/it]\n",
      "100%|███████████████████████████████████████████| 15/15 [00:13<00:00,  1.08it/s]\n"
     ]
    },
    {
     "name": "stdout",
     "output_type": "stream",
     "text": [
      "Epoch 26/100, Train Loss: 0.5905, Val Loss: 0.5802, Train Acc: 0.6828, Val Acc: 0.7000\n"
     ]
    },
    {
     "name": "stderr",
     "output_type": "stream",
     "text": [
      "100%|█████████████████████████████████████████| 127/127 [02:11<00:00,  1.04s/it]\n",
      "100%|███████████████████████████████████████████| 15/15 [00:14<00:00,  1.05it/s]\n"
     ]
    },
    {
     "name": "stdout",
     "output_type": "stream",
     "text": [
      "Epoch 27/100, Train Loss: 0.5913, Val Loss: 0.5792, Train Acc: 0.6791, Val Acc: 0.7047\n"
     ]
    },
    {
     "name": "stderr",
     "output_type": "stream",
     "text": [
      "100%|█████████████████████████████████████████| 127/127 [02:11<00:00,  1.04s/it]\n",
      "100%|███████████████████████████████████████████| 15/15 [00:14<00:00,  1.06it/s]\n"
     ]
    },
    {
     "name": "stdout",
     "output_type": "stream",
     "text": [
      "Epoch 28/100, Train Loss: 0.5900, Val Loss: 0.5813, Train Acc: 0.6818, Val Acc: 0.6979\n"
     ]
    },
    {
     "name": "stderr",
     "output_type": "stream",
     "text": [
      "100%|█████████████████████████████████████████| 127/127 [02:13<00:00,  1.05s/it]\n",
      "100%|███████████████████████████████████████████| 15/15 [00:14<00:00,  1.02it/s]\n"
     ]
    },
    {
     "name": "stdout",
     "output_type": "stream",
     "text": [
      "Epoch 29/100, Train Loss: 0.5902, Val Loss: 0.5828, Train Acc: 0.6836, Val Acc: 0.6979\n"
     ]
    },
    {
     "name": "stderr",
     "output_type": "stream",
     "text": [
      "100%|█████████████████████████████████████████| 127/127 [02:11<00:00,  1.04s/it]\n",
      "100%|███████████████████████████████████████████| 15/15 [00:13<00:00,  1.08it/s]\n"
     ]
    },
    {
     "name": "stdout",
     "output_type": "stream",
     "text": [
      "Epoch 30/100, Train Loss: 0.5896, Val Loss: 0.5793, Train Acc: 0.6836, Val Acc: 0.7016\n"
     ]
    },
    {
     "name": "stderr",
     "output_type": "stream",
     "text": [
      "100%|█████████████████████████████████████████| 127/127 [02:12<00:00,  1.04s/it]\n",
      "100%|███████████████████████████████████████████| 15/15 [00:14<00:00,  1.05it/s]\n"
     ]
    },
    {
     "name": "stdout",
     "output_type": "stream",
     "text": [
      "Epoch 31/100, Train Loss: 0.5901, Val Loss: 0.5831, Train Acc: 0.6815, Val Acc: 0.6958\n"
     ]
    },
    {
     "name": "stderr",
     "output_type": "stream",
     "text": [
      "100%|█████████████████████████████████████████| 127/127 [02:11<00:00,  1.04s/it]\n",
      "100%|███████████████████████████████████████████| 15/15 [00:14<00:00,  1.03it/s]\n"
     ]
    },
    {
     "name": "stdout",
     "output_type": "stream",
     "text": [
      "Epoch 32/100, Train Loss: 0.5892, Val Loss: 0.5817, Train Acc: 0.6829, Val Acc: 0.6964\n"
     ]
    },
    {
     "name": "stderr",
     "output_type": "stream",
     "text": [
      "100%|█████████████████████████████████████████| 127/127 [02:12<00:00,  1.04s/it]\n",
      "100%|███████████████████████████████████████████| 15/15 [00:14<00:00,  1.03it/s]\n"
     ]
    },
    {
     "name": "stdout",
     "output_type": "stream",
     "text": [
      "Epoch 33/100, Train Loss: 0.5899, Val Loss: 0.5857, Train Acc: 0.6810, Val Acc: 0.6906\n"
     ]
    },
    {
     "name": "stderr",
     "output_type": "stream",
     "text": [
      "100%|█████████████████████████████████████████| 127/127 [02:12<00:00,  1.05s/it]\n",
      "100%|███████████████████████████████████████████| 15/15 [00:14<00:00,  1.01it/s]\n"
     ]
    },
    {
     "name": "stdout",
     "output_type": "stream",
     "text": [
      "Epoch 34/100, Train Loss: 0.5894, Val Loss: 0.5802, Train Acc: 0.6809, Val Acc: 0.6932\n"
     ]
    },
    {
     "name": "stderr",
     "output_type": "stream",
     "text": [
      "100%|█████████████████████████████████████████| 127/127 [02:15<00:00,  1.07s/it]\n",
      "100%|███████████████████████████████████████████| 15/15 [00:14<00:00,  1.06it/s]\n"
     ]
    },
    {
     "name": "stdout",
     "output_type": "stream",
     "text": [
      "Epoch 35/100, Train Loss: 0.5896, Val Loss: 0.5871, Train Acc: 0.6838, Val Acc: 0.6880\n"
     ]
    },
    {
     "name": "stderr",
     "output_type": "stream",
     "text": [
      "100%|█████████████████████████████████████████| 127/127 [02:15<00:00,  1.07s/it]\n",
      "100%|███████████████████████████████████████████| 15/15 [00:15<00:00,  1.01s/it]\n"
     ]
    },
    {
     "name": "stdout",
     "output_type": "stream",
     "text": [
      "Epoch 36/100, Train Loss: 0.5899, Val Loss: 0.5803, Train Acc: 0.6824, Val Acc: 0.6995\n"
     ]
    },
    {
     "name": "stderr",
     "output_type": "stream",
     "text": [
      "100%|█████████████████████████████████████████| 127/127 [02:14<00:00,  1.06s/it]\n",
      "100%|███████████████████████████████████████████| 15/15 [00:15<00:00,  1.01s/it]\n"
     ]
    },
    {
     "name": "stdout",
     "output_type": "stream",
     "text": [
      "Epoch 37/100, Train Loss: 0.5896, Val Loss: 0.5835, Train Acc: 0.6805, Val Acc: 0.6943\n"
     ]
    },
    {
     "name": "stderr",
     "output_type": "stream",
     "text": [
      "100%|█████████████████████████████████████████| 127/127 [02:14<00:00,  1.06s/it]\n",
      "100%|███████████████████████████████████████████| 15/15 [00:14<00:00,  1.01it/s]\n"
     ]
    },
    {
     "name": "stdout",
     "output_type": "stream",
     "text": [
      "Epoch 38/100, Train Loss: 0.5907, Val Loss: 0.5817, Train Acc: 0.6799, Val Acc: 0.7016\n"
     ]
    },
    {
     "name": "stderr",
     "output_type": "stream",
     "text": [
      "100%|█████████████████████████████████████████| 127/127 [02:15<00:00,  1.07s/it]\n",
      "100%|███████████████████████████████████████████| 15/15 [00:14<00:00,  1.04it/s]\n"
     ]
    },
    {
     "name": "stdout",
     "output_type": "stream",
     "text": [
      "Epoch 39/100, Train Loss: 0.5894, Val Loss: 0.5798, Train Acc: 0.6842, Val Acc: 0.6964\n"
     ]
    },
    {
     "name": "stderr",
     "output_type": "stream",
     "text": [
      "100%|█████████████████████████████████████████| 127/127 [02:14<00:00,  1.06s/it]\n",
      "100%|███████████████████████████████████████████| 15/15 [00:14<00:00,  1.07it/s]\n"
     ]
    },
    {
     "name": "stdout",
     "output_type": "stream",
     "text": [
      "Epoch 40/100, Train Loss: 0.5907, Val Loss: 0.5879, Train Acc: 0.6802, Val Acc: 0.6927\n"
     ]
    },
    {
     "name": "stderr",
     "output_type": "stream",
     "text": [
      "100%|█████████████████████████████████████████| 127/127 [02:15<00:00,  1.06s/it]\n",
      "100%|███████████████████████████████████████████| 15/15 [00:14<00:00,  1.04it/s]\n"
     ]
    },
    {
     "name": "stdout",
     "output_type": "stream",
     "text": [
      "Epoch 41/100, Train Loss: 0.5900, Val Loss: 0.5909, Train Acc: 0.6806, Val Acc: 0.6818\n"
     ]
    },
    {
     "name": "stderr",
     "output_type": "stream",
     "text": [
      "100%|█████████████████████████████████████████| 127/127 [02:15<00:00,  1.07s/it]\n",
      "100%|███████████████████████████████████████████| 15/15 [00:14<00:00,  1.02it/s]\n"
     ]
    },
    {
     "name": "stdout",
     "output_type": "stream",
     "text": [
      "Epoch 42/100, Train Loss: 0.5906, Val Loss: 0.5860, Train Acc: 0.6816, Val Acc: 0.6969\n"
     ]
    },
    {
     "name": "stderr",
     "output_type": "stream",
     "text": [
      "100%|█████████████████████████████████████████| 127/127 [02:15<00:00,  1.06s/it]\n",
      "100%|███████████████████████████████████████████| 15/15 [00:14<00:00,  1.02it/s]\n"
     ]
    },
    {
     "name": "stdout",
     "output_type": "stream",
     "text": [
      "Epoch 43/100, Train Loss: 0.5897, Val Loss: 0.5832, Train Acc: 0.6811, Val Acc: 0.6953\n"
     ]
    },
    {
     "name": "stderr",
     "output_type": "stream",
     "text": [
      "100%|█████████████████████████████████████████| 127/127 [02:15<00:00,  1.06s/it]\n",
      "100%|███████████████████████████████████████████| 15/15 [00:15<00:00,  1.03s/it]\n"
     ]
    },
    {
     "name": "stdout",
     "output_type": "stream",
     "text": [
      "Epoch 44/100, Train Loss: 0.5895, Val Loss: 0.5798, Train Acc: 0.6821, Val Acc: 0.6984\n"
     ]
    },
    {
     "name": "stderr",
     "output_type": "stream",
     "text": [
      "100%|█████████████████████████████████████████| 127/127 [02:13<00:00,  1.05s/it]\n",
      "100%|███████████████████████████████████████████| 15/15 [00:14<00:00,  1.01it/s]\n"
     ]
    },
    {
     "name": "stdout",
     "output_type": "stream",
     "text": [
      "Epoch 45/100, Train Loss: 0.5900, Val Loss: 0.5818, Train Acc: 0.6805, Val Acc: 0.6969\n"
     ]
    },
    {
     "name": "stderr",
     "output_type": "stream",
     "text": [
      "100%|█████████████████████████████████████████| 127/127 [02:14<00:00,  1.06s/it]\n",
      "100%|███████████████████████████████████████████| 15/15 [00:15<00:00,  1.00s/it]\n"
     ]
    },
    {
     "name": "stdout",
     "output_type": "stream",
     "text": [
      "Epoch 46/100, Train Loss: 0.5898, Val Loss: 0.5859, Train Acc: 0.6813, Val Acc: 0.6974\n"
     ]
    },
    {
     "name": "stderr",
     "output_type": "stream",
     "text": [
      "100%|█████████████████████████████████████████| 127/127 [02:15<00:00,  1.07s/it]\n",
      "100%|███████████████████████████████████████████| 15/15 [00:14<00:00,  1.04it/s]\n"
     ]
    },
    {
     "name": "stdout",
     "output_type": "stream",
     "text": [
      "Epoch 47/100, Train Loss: 0.5905, Val Loss: 0.5809, Train Acc: 0.6815, Val Acc: 0.6932\n"
     ]
    },
    {
     "name": "stderr",
     "output_type": "stream",
     "text": [
      "100%|█████████████████████████████████████████| 127/127 [02:14<00:00,  1.06s/it]\n",
      "100%|███████████████████████████████████████████| 15/15 [00:15<00:00,  1.02s/it]\n"
     ]
    },
    {
     "name": "stdout",
     "output_type": "stream",
     "text": [
      "Epoch 48/100, Train Loss: 0.5901, Val Loss: 0.5845, Train Acc: 0.6818, Val Acc: 0.6943\n"
     ]
    },
    {
     "name": "stderr",
     "output_type": "stream",
     "text": [
      "100%|█████████████████████████████████████████| 127/127 [02:14<00:00,  1.06s/it]\n",
      "100%|███████████████████████████████████████████| 15/15 [00:15<00:00,  1.02s/it]\n"
     ]
    },
    {
     "name": "stdout",
     "output_type": "stream",
     "text": [
      "Epoch 49/100, Train Loss: 0.5898, Val Loss: 0.5765, Train Acc: 0.6818, Val Acc: 0.7031\n"
     ]
    },
    {
     "name": "stderr",
     "output_type": "stream",
     "text": [
      "100%|█████████████████████████████████████████| 127/127 [02:14<00:00,  1.06s/it]\n",
      "100%|███████████████████████████████████████████| 15/15 [00:15<00:00,  1.01s/it]\n"
     ]
    },
    {
     "name": "stdout",
     "output_type": "stream",
     "text": [
      "Epoch 50/100, Train Loss: 0.5909, Val Loss: 0.5827, Train Acc: 0.6801, Val Acc: 0.6948\n"
     ]
    },
    {
     "name": "stderr",
     "output_type": "stream",
     "text": [
      "100%|█████████████████████████████████████████| 127/127 [02:15<00:00,  1.06s/it]\n",
      "100%|███████████████████████████████████████████| 15/15 [00:14<00:00,  1.03it/s]\n"
     ]
    },
    {
     "name": "stdout",
     "output_type": "stream",
     "text": [
      "Epoch 51/100, Train Loss: 0.5896, Val Loss: 0.5848, Train Acc: 0.6835, Val Acc: 0.6948\n"
     ]
    },
    {
     "name": "stderr",
     "output_type": "stream",
     "text": [
      "100%|█████████████████████████████████████████| 127/127 [02:15<00:00,  1.07s/it]\n",
      "100%|███████████████████████████████████████████| 15/15 [00:13<00:00,  1.08it/s]\n"
     ]
    },
    {
     "name": "stdout",
     "output_type": "stream",
     "text": [
      "Epoch 52/100, Train Loss: 0.5904, Val Loss: 0.5835, Train Acc: 0.6814, Val Acc: 0.6979\n"
     ]
    },
    {
     "name": "stderr",
     "output_type": "stream",
     "text": [
      "100%|█████████████████████████████████████████| 127/127 [02:15<00:00,  1.07s/it]\n",
      "100%|███████████████████████████████████████████| 15/15 [00:14<00:00,  1.01it/s]\n"
     ]
    },
    {
     "name": "stdout",
     "output_type": "stream",
     "text": [
      "Epoch 53/100, Train Loss: 0.5904, Val Loss: 0.5814, Train Acc: 0.6802, Val Acc: 0.6974\n"
     ]
    },
    {
     "name": "stderr",
     "output_type": "stream",
     "text": [
      "100%|█████████████████████████████████████████| 127/127 [02:16<00:00,  1.07s/it]\n",
      "100%|███████████████████████████████████████████| 15/15 [00:14<00:00,  1.03it/s]\n"
     ]
    },
    {
     "name": "stdout",
     "output_type": "stream",
     "text": [
      "Epoch 54/100, Train Loss: 0.5894, Val Loss: 0.5829, Train Acc: 0.6826, Val Acc: 0.6953\n"
     ]
    },
    {
     "name": "stderr",
     "output_type": "stream",
     "text": [
      "100%|█████████████████████████████████████████| 127/127 [02:15<00:00,  1.07s/it]\n",
      "100%|███████████████████████████████████████████| 15/15 [00:14<00:00,  1.03it/s]\n"
     ]
    },
    {
     "name": "stdout",
     "output_type": "stream",
     "text": [
      "Epoch 55/100, Train Loss: 0.5896, Val Loss: 0.5781, Train Acc: 0.6826, Val Acc: 0.6969\n"
     ]
    },
    {
     "name": "stderr",
     "output_type": "stream",
     "text": [
      "100%|█████████████████████████████████████████| 127/127 [02:15<00:00,  1.07s/it]\n",
      "100%|███████████████████████████████████████████| 15/15 [00:14<00:00,  1.04it/s]\n"
     ]
    },
    {
     "name": "stdout",
     "output_type": "stream",
     "text": [
      "Epoch 56/100, Train Loss: 0.5909, Val Loss: 0.5859, Train Acc: 0.6819, Val Acc: 0.6932\n"
     ]
    },
    {
     "name": "stderr",
     "output_type": "stream",
     "text": [
      "100%|█████████████████████████████████████████| 127/127 [02:15<00:00,  1.07s/it]\n",
      "100%|███████████████████████████████████████████| 15/15 [00:14<00:00,  1.01it/s]\n"
     ]
    },
    {
     "name": "stdout",
     "output_type": "stream",
     "text": [
      "Epoch 57/100, Train Loss: 0.5910, Val Loss: 0.5848, Train Acc: 0.6831, Val Acc: 0.6906\n"
     ]
    },
    {
     "name": "stderr",
     "output_type": "stream",
     "text": [
      "100%|█████████████████████████████████████████| 127/127 [02:15<00:00,  1.06s/it]\n",
      "100%|███████████████████████████████████████████| 15/15 [00:14<00:00,  1.02it/s]\n"
     ]
    },
    {
     "name": "stdout",
     "output_type": "stream",
     "text": [
      "Epoch 58/100, Train Loss: 0.5902, Val Loss: 0.5854, Train Acc: 0.6827, Val Acc: 0.6896\n"
     ]
    },
    {
     "name": "stderr",
     "output_type": "stream",
     "text": [
      "100%|█████████████████████████████████████████| 127/127 [02:15<00:00,  1.07s/it]\n",
      "100%|███████████████████████████████████████████| 15/15 [00:14<00:00,  1.06it/s]\n"
     ]
    },
    {
     "name": "stdout",
     "output_type": "stream",
     "text": [
      "Epoch 59/100, Train Loss: 0.5903, Val Loss: 0.5825, Train Acc: 0.6824, Val Acc: 0.7010\n"
     ]
    },
    {
     "name": "stderr",
     "output_type": "stream",
     "text": [
      "100%|█████████████████████████████████████████| 127/127 [02:13<00:00,  1.05s/it]\n",
      "100%|███████████████████████████████████████████| 15/15 [00:14<00:00,  1.03it/s]\n"
     ]
    },
    {
     "name": "stdout",
     "output_type": "stream",
     "text": [
      "Epoch 60/100, Train Loss: 0.5907, Val Loss: 0.5783, Train Acc: 0.6826, Val Acc: 0.7047\n"
     ]
    },
    {
     "name": "stderr",
     "output_type": "stream",
     "text": [
      "100%|█████████████████████████████████████████| 127/127 [02:12<00:00,  1.05s/it]\n",
      "100%|███████████████████████████████████████████| 15/15 [00:15<00:00,  1.03s/it]\n"
     ]
    },
    {
     "name": "stdout",
     "output_type": "stream",
     "text": [
      "Epoch 61/100, Train Loss: 0.5901, Val Loss: 0.5836, Train Acc: 0.6832, Val Acc: 0.6979\n"
     ]
    },
    {
     "name": "stderr",
     "output_type": "stream",
     "text": [
      "100%|█████████████████████████████████████████| 127/127 [02:13<00:00,  1.05s/it]\n",
      "100%|███████████████████████████████████████████| 15/15 [00:14<00:00,  1.04it/s]\n"
     ]
    },
    {
     "name": "stdout",
     "output_type": "stream",
     "text": [
      "Epoch 62/100, Train Loss: 0.5908, Val Loss: 0.5826, Train Acc: 0.6840, Val Acc: 0.6922\n"
     ]
    },
    {
     "name": "stderr",
     "output_type": "stream",
     "text": [
      "100%|█████████████████████████████████████████| 127/127 [02:12<00:00,  1.05s/it]\n",
      "100%|███████████████████████████████████████████| 15/15 [00:15<00:00,  1.01s/it]\n"
     ]
    },
    {
     "name": "stdout",
     "output_type": "stream",
     "text": [
      "Epoch 63/100, Train Loss: 0.5892, Val Loss: 0.5838, Train Acc: 0.6845, Val Acc: 0.6943\n"
     ]
    },
    {
     "name": "stderr",
     "output_type": "stream",
     "text": [
      "100%|█████████████████████████████████████████| 127/127 [02:13<00:00,  1.05s/it]\n",
      "100%|███████████████████████████████████████████| 15/15 [00:14<00:00,  1.04it/s]\n"
     ]
    },
    {
     "name": "stdout",
     "output_type": "stream",
     "text": [
      "Epoch 64/100, Train Loss: 0.5906, Val Loss: 0.5803, Train Acc: 0.6809, Val Acc: 0.6990\n"
     ]
    },
    {
     "name": "stderr",
     "output_type": "stream",
     "text": [
      "100%|█████████████████████████████████████████| 127/127 [02:13<00:00,  1.05s/it]\n",
      "100%|███████████████████████████████████████████| 15/15 [00:15<00:00,  1.01s/it]\n"
     ]
    },
    {
     "name": "stdout",
     "output_type": "stream",
     "text": [
      "Epoch 65/100, Train Loss: 0.5894, Val Loss: 0.5772, Train Acc: 0.6829, Val Acc: 0.7068\n"
     ]
    },
    {
     "name": "stderr",
     "output_type": "stream",
     "text": [
      "100%|█████████████████████████████████████████| 127/127 [02:12<00:00,  1.05s/it]\n",
      "100%|███████████████████████████████████████████| 15/15 [00:14<00:00,  1.06it/s]\n"
     ]
    },
    {
     "name": "stdout",
     "output_type": "stream",
     "text": [
      "Epoch 66/100, Train Loss: 0.5899, Val Loss: 0.5776, Train Acc: 0.6823, Val Acc: 0.6964\n"
     ]
    },
    {
     "name": "stderr",
     "output_type": "stream",
     "text": [
      "100%|█████████████████████████████████████████| 127/127 [02:13<00:00,  1.05s/it]\n",
      "100%|███████████████████████████████████████████| 15/15 [00:14<00:00,  1.04it/s]\n"
     ]
    },
    {
     "name": "stdout",
     "output_type": "stream",
     "text": [
      "Epoch 67/100, Train Loss: 0.5893, Val Loss: 0.5861, Train Acc: 0.6831, Val Acc: 0.6932\n"
     ]
    },
    {
     "name": "stderr",
     "output_type": "stream",
     "text": [
      "100%|█████████████████████████████████████████| 127/127 [02:13<00:00,  1.05s/it]\n",
      "100%|███████████████████████████████████████████| 15/15 [00:14<00:00,  1.07it/s]\n"
     ]
    },
    {
     "name": "stdout",
     "output_type": "stream",
     "text": [
      "Epoch 68/100, Train Loss: 0.5909, Val Loss: 0.5824, Train Acc: 0.6802, Val Acc: 0.6901\n"
     ]
    },
    {
     "name": "stderr",
     "output_type": "stream",
     "text": [
      "100%|█████████████████████████████████████████| 127/127 [02:14<00:00,  1.06s/it]\n",
      "100%|███████████████████████████████████████████| 15/15 [00:14<00:00,  1.06it/s]\n"
     ]
    },
    {
     "name": "stdout",
     "output_type": "stream",
     "text": [
      "Epoch 69/100, Train Loss: 0.5903, Val Loss: 0.5801, Train Acc: 0.6821, Val Acc: 0.6969\n"
     ]
    },
    {
     "name": "stderr",
     "output_type": "stream",
     "text": [
      "100%|█████████████████████████████████████████| 127/127 [02:14<00:00,  1.06s/it]\n",
      "100%|███████████████████████████████████████████| 15/15 [00:13<00:00,  1.07it/s]\n"
     ]
    },
    {
     "name": "stdout",
     "output_type": "stream",
     "text": [
      "Epoch 70/100, Train Loss: 0.5910, Val Loss: 0.5898, Train Acc: 0.6829, Val Acc: 0.6849\n"
     ]
    },
    {
     "name": "stderr",
     "output_type": "stream",
     "text": [
      "100%|█████████████████████████████████████████| 127/127 [02:15<00:00,  1.07s/it]\n",
      "100%|███████████████████████████████████████████| 15/15 [00:15<00:00,  1.03s/it]\n"
     ]
    },
    {
     "name": "stdout",
     "output_type": "stream",
     "text": [
      "Epoch 71/100, Train Loss: 0.5903, Val Loss: 0.5808, Train Acc: 0.6817, Val Acc: 0.6990\n"
     ]
    },
    {
     "name": "stderr",
     "output_type": "stream",
     "text": [
      "100%|█████████████████████████████████████████| 127/127 [02:14<00:00,  1.06s/it]\n",
      "100%|███████████████████████████████████████████| 15/15 [00:15<00:00,  1.01s/it]\n"
     ]
    },
    {
     "name": "stdout",
     "output_type": "stream",
     "text": [
      "Epoch 72/100, Train Loss: 0.5905, Val Loss: 0.5856, Train Acc: 0.6813, Val Acc: 0.6901\n"
     ]
    },
    {
     "name": "stderr",
     "output_type": "stream",
     "text": [
      "100%|█████████████████████████████████████████| 127/127 [02:14<00:00,  1.06s/it]\n",
      "100%|███████████████████████████████████████████| 15/15 [00:15<00:00,  1.01s/it]\n"
     ]
    },
    {
     "name": "stdout",
     "output_type": "stream",
     "text": [
      "Epoch 73/100, Train Loss: 0.5897, Val Loss: 0.5829, Train Acc: 0.6845, Val Acc: 0.6990\n"
     ]
    },
    {
     "name": "stderr",
     "output_type": "stream",
     "text": [
      "100%|█████████████████████████████████████████| 127/127 [02:15<00:00,  1.07s/it]\n",
      "100%|███████████████████████████████████████████| 15/15 [00:14<00:00,  1.06it/s]\n"
     ]
    },
    {
     "name": "stdout",
     "output_type": "stream",
     "text": [
      "Epoch 74/100, Train Loss: 0.5908, Val Loss: 0.5844, Train Acc: 0.6818, Val Acc: 0.7000\n"
     ]
    },
    {
     "name": "stderr",
     "output_type": "stream",
     "text": [
      "100%|█████████████████████████████████████████| 127/127 [02:15<00:00,  1.07s/it]\n",
      "100%|███████████████████████████████████████████| 15/15 [00:14<00:00,  1.04it/s]\n"
     ]
    },
    {
     "name": "stdout",
     "output_type": "stream",
     "text": [
      "Epoch 75/100, Train Loss: 0.5894, Val Loss: 0.5810, Train Acc: 0.6858, Val Acc: 0.7010\n"
     ]
    },
    {
     "name": "stderr",
     "output_type": "stream",
     "text": [
      "100%|█████████████████████████████████████████| 127/127 [02:15<00:00,  1.07s/it]\n",
      "100%|███████████████████████████████████████████| 15/15 [00:14<00:00,  1.06it/s]\n"
     ]
    },
    {
     "name": "stdout",
     "output_type": "stream",
     "text": [
      "Epoch 76/100, Train Loss: 0.5905, Val Loss: 0.5821, Train Acc: 0.6807, Val Acc: 0.6964\n"
     ]
    },
    {
     "name": "stderr",
     "output_type": "stream",
     "text": [
      "100%|█████████████████████████████████████████| 127/127 [02:15<00:00,  1.07s/it]\n",
      "100%|███████████████████████████████████████████| 15/15 [00:14<00:00,  1.02it/s]\n"
     ]
    },
    {
     "name": "stdout",
     "output_type": "stream",
     "text": [
      "Epoch 77/100, Train Loss: 0.5895, Val Loss: 0.5776, Train Acc: 0.6819, Val Acc: 0.7005\n"
     ]
    },
    {
     "name": "stderr",
     "output_type": "stream",
     "text": [
      "100%|█████████████████████████████████████████| 127/127 [02:15<00:00,  1.06s/it]\n",
      "100%|███████████████████████████████████████████| 15/15 [00:14<00:00,  1.05it/s]\n"
     ]
    },
    {
     "name": "stdout",
     "output_type": "stream",
     "text": [
      "Epoch 78/100, Train Loss: 0.5901, Val Loss: 0.5826, Train Acc: 0.6813, Val Acc: 0.6948\n"
     ]
    },
    {
     "name": "stderr",
     "output_type": "stream",
     "text": [
      "100%|█████████████████████████████████████████| 127/127 [02:14<00:00,  1.06s/it]\n",
      "100%|███████████████████████████████████████████| 15/15 [00:14<00:00,  1.04it/s]\n"
     ]
    },
    {
     "name": "stdout",
     "output_type": "stream",
     "text": [
      "Epoch 79/100, Train Loss: 0.5900, Val Loss: 0.5840, Train Acc: 0.6811, Val Acc: 0.6984\n"
     ]
    },
    {
     "name": "stderr",
     "output_type": "stream",
     "text": [
      "100%|█████████████████████████████████████████| 127/127 [02:13<00:00,  1.05s/it]\n",
      "100%|███████████████████████████████████████████| 15/15 [00:14<00:00,  1.00it/s]\n"
     ]
    },
    {
     "name": "stdout",
     "output_type": "stream",
     "text": [
      "Epoch 80/100, Train Loss: 0.5888, Val Loss: 0.5753, Train Acc: 0.6841, Val Acc: 0.7073\n"
     ]
    },
    {
     "name": "stderr",
     "output_type": "stream",
     "text": [
      "100%|█████████████████████████████████████████| 127/127 [02:12<00:00,  1.04s/it]\n",
      "100%|███████████████████████████████████████████| 15/15 [00:14<00:00,  1.04it/s]\n"
     ]
    },
    {
     "name": "stdout",
     "output_type": "stream",
     "text": [
      "Epoch 81/100, Train Loss: 0.5894, Val Loss: 0.5903, Train Acc: 0.6836, Val Acc: 0.6901\n"
     ]
    },
    {
     "name": "stderr",
     "output_type": "stream",
     "text": [
      "100%|█████████████████████████████████████████| 127/127 [02:12<00:00,  1.04s/it]\n",
      "100%|███████████████████████████████████████████| 15/15 [00:15<00:00,  1.02s/it]\n"
     ]
    },
    {
     "name": "stdout",
     "output_type": "stream",
     "text": [
      "Epoch 82/100, Train Loss: 0.5900, Val Loss: 0.5855, Train Acc: 0.6809, Val Acc: 0.6911\n"
     ]
    },
    {
     "name": "stderr",
     "output_type": "stream",
     "text": [
      "100%|█████████████████████████████████████████| 127/127 [02:12<00:00,  1.04s/it]\n",
      "100%|███████████████████████████████████████████| 15/15 [00:14<00:00,  1.05it/s]\n"
     ]
    },
    {
     "name": "stdout",
     "output_type": "stream",
     "text": [
      "Epoch 83/100, Train Loss: 0.5904, Val Loss: 0.5840, Train Acc: 0.6829, Val Acc: 0.6958\n"
     ]
    },
    {
     "name": "stderr",
     "output_type": "stream",
     "text": [
      "100%|█████████████████████████████████████████| 127/127 [02:12<00:00,  1.04s/it]\n",
      "100%|███████████████████████████████████████████| 15/15 [00:15<00:00,  1.02s/it]\n"
     ]
    },
    {
     "name": "stdout",
     "output_type": "stream",
     "text": [
      "Epoch 84/100, Train Loss: 0.5910, Val Loss: 0.5825, Train Acc: 0.6819, Val Acc: 0.6995\n"
     ]
    },
    {
     "name": "stderr",
     "output_type": "stream",
     "text": [
      "100%|█████████████████████████████████████████| 127/127 [02:12<00:00,  1.04s/it]\n",
      "100%|███████████████████████████████████████████| 15/15 [00:14<00:00,  1.04it/s]\n"
     ]
    },
    {
     "name": "stdout",
     "output_type": "stream",
     "text": [
      "Epoch 85/100, Train Loss: 0.5910, Val Loss: 0.5850, Train Acc: 0.6825, Val Acc: 0.6922\n"
     ]
    },
    {
     "name": "stderr",
     "output_type": "stream",
     "text": [
      "100%|█████████████████████████████████████████| 127/127 [02:15<00:00,  1.06s/it]\n",
      "100%|███████████████████████████████████████████| 15/15 [00:15<00:00,  1.00s/it]\n"
     ]
    },
    {
     "name": "stdout",
     "output_type": "stream",
     "text": [
      "Epoch 86/100, Train Loss: 0.5899, Val Loss: 0.5856, Train Acc: 0.6854, Val Acc: 0.6917\n"
     ]
    },
    {
     "name": "stderr",
     "output_type": "stream",
     "text": [
      "100%|█████████████████████████████████████████| 127/127 [02:15<00:00,  1.07s/it]\n",
      "100%|███████████████████████████████████████████| 15/15 [00:13<00:00,  1.08it/s]\n"
     ]
    },
    {
     "name": "stdout",
     "output_type": "stream",
     "text": [
      "Epoch 87/100, Train Loss: 0.5905, Val Loss: 0.5750, Train Acc: 0.6820, Val Acc: 0.7016\n"
     ]
    },
    {
     "name": "stderr",
     "output_type": "stream",
     "text": [
      "100%|█████████████████████████████████████████| 127/127 [02:15<00:00,  1.06s/it]\n",
      "100%|███████████████████████████████████████████| 15/15 [00:13<00:00,  1.07it/s]\n"
     ]
    },
    {
     "name": "stdout",
     "output_type": "stream",
     "text": [
      "Epoch 88/100, Train Loss: 0.5903, Val Loss: 0.5788, Train Acc: 0.6840, Val Acc: 0.6937\n"
     ]
    },
    {
     "name": "stderr",
     "output_type": "stream",
     "text": [
      "100%|█████████████████████████████████████████| 127/127 [02:14<00:00,  1.06s/it]\n",
      "100%|███████████████████████████████████████████| 15/15 [00:14<00:00,  1.02it/s]\n"
     ]
    },
    {
     "name": "stdout",
     "output_type": "stream",
     "text": [
      "Epoch 89/100, Train Loss: 0.5905, Val Loss: 0.5804, Train Acc: 0.6805, Val Acc: 0.6958\n"
     ]
    },
    {
     "name": "stderr",
     "output_type": "stream",
     "text": [
      "100%|█████████████████████████████████████████| 127/127 [02:15<00:00,  1.06s/it]\n",
      "100%|███████████████████████████████████████████| 15/15 [00:14<00:00,  1.04it/s]\n"
     ]
    },
    {
     "name": "stdout",
     "output_type": "stream",
     "text": [
      "Epoch 90/100, Train Loss: 0.5907, Val Loss: 0.5868, Train Acc: 0.6823, Val Acc: 0.6979\n"
     ]
    },
    {
     "name": "stderr",
     "output_type": "stream",
     "text": [
      "100%|█████████████████████████████████████████| 127/127 [02:14<00:00,  1.06s/it]\n",
      "100%|███████████████████████████████████████████| 15/15 [00:14<00:00,  1.04it/s]\n"
     ]
    },
    {
     "name": "stdout",
     "output_type": "stream",
     "text": [
      "Epoch 91/100, Train Loss: 0.5898, Val Loss: 0.5863, Train Acc: 0.6801, Val Acc: 0.7000\n"
     ]
    },
    {
     "name": "stderr",
     "output_type": "stream",
     "text": [
      "100%|█████████████████████████████████████████| 127/127 [02:15<00:00,  1.06s/it]\n",
      "100%|███████████████████████████████████████████| 15/15 [00:14<00:00,  1.05it/s]\n"
     ]
    },
    {
     "name": "stdout",
     "output_type": "stream",
     "text": [
      "Epoch 92/100, Train Loss: 0.5914, Val Loss: 0.5800, Train Acc: 0.6801, Val Acc: 0.6964\n"
     ]
    },
    {
     "name": "stderr",
     "output_type": "stream",
     "text": [
      "100%|█████████████████████████████████████████| 127/127 [02:15<00:00,  1.06s/it]\n",
      "100%|███████████████████████████████████████████| 15/15 [00:15<00:00,  1.01s/it]\n"
     ]
    },
    {
     "name": "stdout",
     "output_type": "stream",
     "text": [
      "Epoch 93/100, Train Loss: 0.5899, Val Loss: 0.5823, Train Acc: 0.6855, Val Acc: 0.7052\n"
     ]
    },
    {
     "name": "stderr",
     "output_type": "stream",
     "text": [
      "100%|█████████████████████████████████████████| 127/127 [02:14<00:00,  1.06s/it]\n",
      "100%|███████████████████████████████████████████| 15/15 [00:14<00:00,  1.02it/s]\n"
     ]
    },
    {
     "name": "stdout",
     "output_type": "stream",
     "text": [
      "Epoch 94/100, Train Loss: 0.5909, Val Loss: 0.5823, Train Acc: 0.6818, Val Acc: 0.6984\n"
     ]
    },
    {
     "name": "stderr",
     "output_type": "stream",
     "text": [
      "100%|█████████████████████████████████████████| 127/127 [02:14<00:00,  1.06s/it]\n",
      "100%|███████████████████████████████████████████| 15/15 [00:15<00:00,  1.01s/it]\n"
     ]
    },
    {
     "name": "stdout",
     "output_type": "stream",
     "text": [
      "Epoch 95/100, Train Loss: 0.5899, Val Loss: 0.5804, Train Acc: 0.6831, Val Acc: 0.6974\n"
     ]
    },
    {
     "name": "stderr",
     "output_type": "stream",
     "text": [
      "100%|█████████████████████████████████████████| 127/127 [02:14<00:00,  1.06s/it]\n",
      "100%|███████████████████████████████████████████| 15/15 [00:14<00:00,  1.06it/s]\n"
     ]
    },
    {
     "name": "stdout",
     "output_type": "stream",
     "text": [
      "Epoch 96/100, Train Loss: 0.5899, Val Loss: 0.5817, Train Acc: 0.6834, Val Acc: 0.6964\n"
     ]
    },
    {
     "name": "stderr",
     "output_type": "stream",
     "text": [
      "100%|█████████████████████████████████████████| 127/127 [02:14<00:00,  1.06s/it]\n",
      "100%|███████████████████████████████████████████| 15/15 [00:15<00:00,  1.00s/it]\n"
     ]
    },
    {
     "name": "stdout",
     "output_type": "stream",
     "text": [
      "Epoch 97/100, Train Loss: 0.5892, Val Loss: 0.5815, Train Acc: 0.6805, Val Acc: 0.6984\n"
     ]
    },
    {
     "name": "stderr",
     "output_type": "stream",
     "text": [
      "100%|█████████████████████████████████████████| 127/127 [02:15<00:00,  1.07s/it]\n",
      "100%|███████████████████████████████████████████| 15/15 [00:15<00:00,  1.02s/it]\n"
     ]
    },
    {
     "name": "stdout",
     "output_type": "stream",
     "text": [
      "Epoch 98/100, Train Loss: 0.5894, Val Loss: 0.5832, Train Acc: 0.6832, Val Acc: 0.6896\n"
     ]
    },
    {
     "name": "stderr",
     "output_type": "stream",
     "text": [
      "100%|█████████████████████████████████████████| 127/127 [02:14<00:00,  1.06s/it]\n",
      "100%|███████████████████████████████████████████| 15/15 [00:14<00:00,  1.02it/s]\n"
     ]
    },
    {
     "name": "stdout",
     "output_type": "stream",
     "text": [
      "Epoch 99/100, Train Loss: 0.5897, Val Loss: 0.5813, Train Acc: 0.6793, Val Acc: 0.6964\n"
     ]
    },
    {
     "name": "stderr",
     "output_type": "stream",
     "text": [
      "100%|█████████████████████████████████████████| 127/127 [02:13<00:00,  1.05s/it]\n",
      "100%|███████████████████████████████████████████| 15/15 [00:14<00:00,  1.02it/s]"
     ]
    },
    {
     "name": "stdout",
     "output_type": "stream",
     "text": [
      "Epoch 100/100, Train Loss: 0.5895, Val Loss: 0.5860, Train Acc: 0.6829, Val Acc: 0.6891\n"
     ]
    },
    {
     "name": "stderr",
     "output_type": "stream",
     "text": [
      "\n"
     ]
    }
   ],
   "source": [
    "epochs=100\n",
    "train_losses = []\n",
    "val_losses = []\n",
    "train_accs = []\n",
    "val_accs = []\n",
    "\n",
    "#wandb.init(project='ELEC571_Project', entity='vctoriawu')\n",
    "\n",
    "for epoch in range(epochs):\n",
    "\n",
    "    train_time = time.time()\n",
    "    train_loss = 0\n",
    "    train_preds = []\n",
    "    train_labels = []\n",
    "    \n",
    "    for i, data_batch in enumerate(tqdm(trainloader)):\n",
    "        optimizer.zero_grad()\n",
    "\n",
    "        # Use GNN layers to propagate messages between embeddings #TODO - define data_batch.x and data_batch.y\n",
    "        h = data_batch.features\n",
    "        #h = h.view(batch_size, -1)\n",
    "        #h = torch.reshape(h, [h.shape[0]*h.shape[1]*h.shape[2], -1])\n",
    "        #h = torch.squeeze(h, dim=1)\n",
    "        #h = torch.reshape(h, [h.shape[0], h.shape[2]*h.shape[3], h.shape[1]])\n",
    "        #print(h.shape)\n",
    "        data_batch.x = h\n",
    "        x = gnn_classifiers(data_batch)\n",
    "        y = data_batch.y\n",
    "        y = y.type(torch.float)\n",
    "        #x = torch.squeeze(x, dim=1)\n",
    "        #print(x)\n",
    "        loss = loss_func(x, y)\n",
    "        train_loss += loss.item() * batch_size\n",
    "\n",
    "        loss.backward()\n",
    "        optimizer.step()\n",
    "\n",
    "        # Save label and prediction\n",
    "        #data_batch.y.detach().cpu().numpy()\n",
    "        #prediction = x.detach().cpu().numpy().round()\n",
    "        \n",
    "        prediction = x > 0.5\n",
    "        \n",
    "        train_preds.extend(prediction.tolist())\n",
    "        train_labels.extend(data_batch.y.tolist())\n",
    "\n",
    "    train_time = time.time() - train_time\n",
    "    \n",
    "    # Update the learning rate\n",
    "    #lr_scheduler.step()\n",
    "\n",
    "    val_loss = 0\n",
    "    val_preds = []\n",
    "    val_labels = []\n",
    "    \n",
    "    test_time = time.time()\n",
    "    \n",
    "    with torch.no_grad():\n",
    "        for i, data_batch in enumerate(tqdm(valloader)):\n",
    "\n",
    "            # Use GNN layers to propagate messages between pixel embeddings\n",
    "            h = data_batch.features\n",
    "            #h = torch.squeeze(h, dim=1)\n",
    "            data_batch.x = h\n",
    "            x = gnn_classifiers(data_batch)\n",
    "            y = data_batch.y\n",
    "            y = y.type(torch.float)\n",
    "            #x = torch.squeeze(x, dim=1)\n",
    "            loss = loss_func(x, y)\n",
    "            val_loss += loss.detach().cpu().item() * batch_size\n",
    "\n",
    "            # Save label and prediction\n",
    "            data_batch.y.detach().cpu().numpy()\n",
    "            prediction = x.detach().cpu().numpy().round()\n",
    "            \n",
    "            val_preds.extend(prediction.tolist())\n",
    "            val_labels.extend(data_batch.y.tolist())\n",
    "            \n",
    "    val_acc = accuracy_score(val_labels, val_preds)\n",
    "    train_acc = accuracy_score(train_labels, train_preds)\n",
    "    \n",
    "\n",
    "    test_time = time.time() - test_time\n",
    "    \n",
    "    # Append losses and accuracies to lists for plotting\n",
    "    train_loss /= len(trainloader)*batch_size\n",
    "    val_loss /= len(valloader)*batch_size\n",
    "    train_losses.append(train_loss)\n",
    "    val_losses.append(val_loss)\n",
    "    train_accs.append(train_acc)\n",
    "    val_accs.append(val_acc)\n",
    "    \n",
    "    # Update the scheduler based on the validation loss\n",
    "    scheduler.step(val_loss)\n",
    "\n",
    "    # Print epoch information\n",
    "    #wandb.log({\"train_loss\": train_loss, \"val_loss\": val_loss, \"train_acc\": train_acc, \"val_acc\": val_acc})\n",
    "    print(f\"Epoch {epoch+1}/{epochs}, Train Loss: {train_loss:.4f}, Val Loss: {val_loss:.4f}, Train Acc: {train_acc:.4f}, Val Acc: {val_acc:.4f}\")\n"
   ]
  },
  {
   "cell_type": "code",
   "execution_count": 29,
   "id": "ea032621",
   "metadata": {},
   "outputs": [
    {
     "data": {
      "image/png": "[encoded data removed]",
      "text/plain": [
       "<Figure size 640x480 with 1 Axes>"
      ]
     },
     "metadata": {},
     "output_type": "display_data"
    },
    {
     "data": {
      "image/png": "[encoded data removed]",
      "text/plain": [
       "<Figure size 640x480 with 1 Axes>"
      ]
     },
     "metadata": {},
     "output_type": "display_data"
    }
   ],
   "source": [
    "import matplotlib.pyplot as plt\n",
    "\n",
    "# Plot the losses and accuracies\n",
    "epochs = np.arange(1, 100+1)\n",
    "plt.plot(epochs, train_losses, label='train')\n",
    "plt.plot(epochs, val_losses, label='val')\n",
    "plt.xlabel('Epoch')\n",
    "plt.ylabel('Loss')\n",
    "plt.legend()\n",
    "plt.show()\n",
    "\n",
    "plt.plot(epochs, train_accs, label='train')\n",
    "plt.plot(epochs, val_accs, label='val')\n",
    "plt.xlabel('Epoch')\n",
    "plt.ylabel('Accuracy')\n",
    "plt.legend()\n",
    "plt.show()"
   ]
  },
  {
   "cell_type": "code",
   "execution_count": 550,
   "id": "4f18506d",
   "metadata": {},
   "outputs": [],
   "source": [
    "#weights = torch.load(\"weights.pth\", map_location=torch.device('cpu'))"
   ]
  },
  {
   "cell_type": "code",
   "execution_count": 139,
   "id": "2d6b5b61",
   "metadata": {},
   "outputs": [
    {
     "data": {
      "text/plain": [
       "<All keys matched successfully>"
      ]
     },
     "execution_count": 139,
     "metadata": {},
     "output_type": "execute_result"
    }
   ],
   "source": [
    "#gnn_classifiers.load_state_dict(weights)"
   ]
  },
  {
   "cell_type": "code",
   "execution_count": 30,
   "id": "5a4d6908",
   "metadata": {},
   "outputs": [
    {
     "name": "stderr",
     "output_type": "stream",
     "text": [
      "100%|█████████████████████████████████████████████| 15/15 [00:15<00:00,  1.03s/it]"
     ]
    },
    {
     "name": "stdout",
     "output_type": "stream",
     "text": [
      "0.5286458333333334\n",
      "0.6066328605016073\n"
     ]
    },
    {
     "name": "stderr",
     "output_type": "stream",
     "text": [
      "\n"
     ]
    }
   ],
   "source": [
    "test_loss = 0\n",
    "test_preds = []\n",
    "test_labels = []\n",
    "\n",
    "test_time = time.time()\n",
    "\n",
    "with torch.no_grad():\n",
    "    for i, data_batch in enumerate(tqdm(testloader)):\n",
    "\n",
    "        # Use GNN layers to propagate messages between pixel embeddings\n",
    "        data_batch.x = data_batch.features\n",
    "        x = gnn_classifiers(data_batch)\n",
    "        y = data_batch.y\n",
    "        y = y.type(torch.float)\n",
    "        loss = loss_func(x, y)\n",
    "        test_loss += loss.detach().cpu().item() * batch_size\n",
    "\n",
    "        # Save label and prediction\n",
    "        data_batch.y.detach().cpu().numpy()\n",
    "        prediction = x.detach().cpu().numpy().round()\n",
    "\n",
    "        test_preds.extend(prediction.tolist())\n",
    "        test_labels.extend(data_batch.y.tolist())\n",
    "\n",
    "test_loss /= len(testloader)*batch_size\n",
    "test_acc = accuracy_score(test_labels, val_preds)\n",
    "\n",
    "print(test_acc)\n",
    "print(test_loss)"
   ]
  },
  {
   "cell_type": "code",
   "execution_count": 31,
   "id": "27bef89e",
   "metadata": {},
   "outputs": [
    {
     "name": "stdout",
     "output_type": "stream",
     "text": [
      "[0.0, 0.0, 1.0, 0.0, 0.0, 1.0, 0.0, 0.0, 0.0, 1.0, 0.0, 0.0, 0.0, 0.0, 1.0, 1.0, 0.0, 0.0, 0.0, 0.0, 1.0, 1.0, 0.0, 0.0, 0.0, 0.0, 0.0, 0.0, 0.0, 1.0, 0.0, 0.0, 0.0, 0.0, 0.0, 0.0, 1.0, 0.0, 1.0, 0.0, 1.0, 0.0, 0.0, 0.0, 1.0, 0.0, 1.0, 0.0, 1.0, 1.0, 1.0, 0.0, 1.0, 0.0, 0.0, 0.0, 0.0, 0.0, 0.0, 0.0, 0.0, 1.0, 0.0, 0.0, 0.0, 1.0, 1.0, 0.0, 0.0, 0.0, 0.0, 1.0, 0.0, 0.0, 0.0, 0.0, 0.0, 0.0, 1.0, 1.0, 1.0, 0.0, 1.0, 0.0, 0.0, 0.0, 0.0, 0.0, 0.0, 0.0, 0.0, 0.0, 1.0, 0.0, 1.0, 0.0, 0.0, 0.0, 0.0, 0.0, 0.0, 1.0, 0.0, 1.0, 1.0, 1.0, 0.0, 0.0, 0.0, 0.0, 0.0, 0.0, 0.0, 0.0, 0.0, 0.0, 0.0, 0.0, 1.0, 0.0, 1.0, 0.0, 0.0, 0.0, 1.0, 1.0, 0.0, 0.0, 0.0, 0.0, 0.0, 0.0, 0.0, 0.0, 0.0, 0.0, 0.0, 0.0, 0.0, 0.0, 0.0, 0.0, 0.0, 0.0, 0.0, 1.0, 0.0, 1.0, 0.0, 1.0, 0.0, 0.0, 0.0, 0.0, 0.0, 1.0, 0.0, 0.0, 0.0, 0.0, 0.0, 1.0, 0.0, 1.0, 0.0, 1.0, 0.0, 0.0, 0.0, 0.0, 0.0, 0.0, 0.0, 1.0, 0.0, 0.0, 0.0, 0.0, 1.0, 0.0, 0.0, 0.0, 0.0, 0.0, 0.0, 0.0, 0.0, 0.0, 1.0, 0.0, 1.0, 0.0, 1.0, 0.0, 0.0, 0.0, 0.0, 0.0, 0.0, 0.0, 1.0, 0.0, 1.0, 0.0, 1.0, 0.0, 0.0, 0.0, 1.0, 1.0, 1.0, 0.0, 0.0, 1.0, 0.0, 0.0, 1.0, 1.0, 0.0, 0.0, 1.0, 1.0, 1.0, 0.0, 0.0, 0.0, 0.0, 0.0, 0.0, 0.0, 0.0, 1.0, 1.0, 0.0, 0.0, 0.0, 0.0, 0.0, 1.0, 0.0, 0.0, 0.0, 0.0, 0.0, 0.0, 0.0, 0.0, 1.0, 0.0, 1.0, 0.0, 1.0, 0.0, 1.0, 1.0, 0.0, 0.0, 0.0, 1.0, 0.0, 0.0, 0.0, 0.0, 1.0, 0.0, 0.0, 0.0, 1.0, 1.0, 0.0, 0.0, 0.0, 0.0, 0.0, 1.0, 1.0, 0.0, 0.0, 0.0, 0.0, 0.0, 1.0, 1.0, 0.0, 0.0, 1.0, 0.0, 0.0, 0.0, 1.0, 1.0, 1.0, 0.0, 0.0, 0.0, 0.0, 0.0, 0.0, 0.0, 0.0, 0.0, 0.0, 0.0, 0.0, 1.0, 0.0, 1.0, 0.0, 0.0, 1.0, 1.0, 1.0, 1.0, 0.0, 1.0, 0.0, 1.0, 0.0, 0.0, 0.0, 1.0, 0.0, 0.0, 0.0, 0.0, 0.0, 0.0, 0.0, 0.0, 1.0, 1.0, 1.0, 1.0, 1.0, 0.0, 0.0, 0.0, 0.0, 1.0, 1.0, 0.0, 1.0, 0.0, 0.0, 0.0, 0.0, 0.0, 0.0, 1.0, 0.0, 1.0, 0.0, 1.0, 0.0, 0.0, 0.0, 1.0, 1.0, 1.0, 0.0, 0.0, 0.0, 1.0, 0.0, 0.0, 0.0, 0.0, 1.0, 1.0, 0.0, 0.0, 0.0, 0.0, 0.0, 1.0, 0.0, 0.0, 0.0, 0.0, 1.0, 0.0, 1.0, 1.0, 1.0, 1.0, 0.0, 0.0, 0.0, 1.0, 1.0, 0.0, 0.0, 0.0, 0.0, 1.0, 1.0, 0.0, 1.0, 0.0, 0.0, 0.0, 0.0, 0.0, 1.0, 1.0, 1.0, 0.0, 0.0, 1.0, 1.0, 0.0, 0.0, 0.0, 1.0, 0.0, 0.0, 1.0, 0.0, 0.0, 1.0, 0.0, 1.0, 0.0, 0.0, 1.0, 1.0, 0.0, 0.0, 0.0, 0.0, 0.0, 0.0, 0.0, 0.0, 0.0, 1.0, 0.0, 0.0, 0.0, 1.0, 0.0, 1.0, 1.0, 0.0, 0.0, 0.0, 0.0, 0.0, 1.0, 1.0, 0.0, 0.0, 0.0, 0.0, 1.0, 0.0, 0.0, 0.0, 1.0, 1.0, 0.0, 0.0, 0.0, 0.0, 1.0, 0.0, 1.0, 0.0, 1.0, 1.0, 0.0, 0.0, 0.0, 0.0, 0.0, 0.0, 0.0, 0.0, 1.0, 1.0, 0.0, 1.0, 0.0, 1.0, 1.0, 0.0, 0.0, 0.0, 1.0, 0.0, 1.0, 0.0, 1.0, 1.0, 1.0, 0.0, 0.0, 1.0, 0.0, 0.0, 0.0, 0.0, 0.0, 0.0, 0.0, 0.0, 0.0, 0.0, 0.0, 0.0, 0.0, 0.0, 0.0, 0.0, 1.0, 1.0, 0.0, 1.0, 0.0, 0.0, 0.0, 1.0, 0.0, 0.0, 0.0, 0.0, 1.0, 0.0, 0.0, 0.0, 1.0, 0.0, 0.0, 1.0, 0.0, 0.0, 0.0, 0.0, 0.0, 0.0, 1.0, 0.0, 0.0, 1.0, 1.0, 1.0, 0.0, 0.0, 1.0, 0.0, 0.0, 0.0, 0.0, 0.0, 0.0, 1.0, 0.0, 0.0, 0.0, 0.0, 0.0, 0.0, 0.0, 0.0, 0.0, 0.0, 0.0, 0.0, 1.0, 1.0, 1.0, 0.0, 0.0, 1.0, 0.0, 0.0, 1.0, 1.0, 1.0, 0.0, 1.0, 1.0, 0.0, 0.0, 0.0, 0.0, 0.0, 1.0, 0.0, 1.0, 1.0, 0.0, 1.0, 0.0, 1.0, 1.0, 0.0, 1.0, 0.0, 0.0, 1.0, 0.0, 0.0, 0.0, 0.0, 1.0, 0.0, 0.0, 0.0, 0.0, 0.0, 1.0, 1.0, 1.0, 0.0, 0.0, 0.0, 0.0, 0.0, 0.0, 0.0, 0.0, 0.0, 1.0, 0.0, 1.0, 0.0, 0.0, 0.0, 0.0, 0.0, 1.0, 0.0, 0.0, 0.0, 0.0, 0.0, 0.0, 0.0, 0.0, 0.0, 0.0, 0.0, 0.0, 0.0, 0.0, 0.0, 0.0, 0.0, 1.0, 1.0, 0.0, 0.0, 1.0, 1.0, 1.0, 1.0, 0.0, 0.0, 1.0, 1.0, 0.0, 0.0, 1.0, 0.0, 0.0, 1.0, 1.0, 0.0, 0.0, 0.0, 0.0, 1.0, 1.0, 0.0, 1.0, 1.0, 0.0, 0.0, 0.0, 0.0, 0.0, 0.0, 0.0, 1.0, 0.0, 1.0, 0.0, 0.0, 0.0, 0.0, 0.0, 0.0, 1.0, 0.0, 0.0, 0.0, 0.0, 0.0, 0.0, 1.0, 0.0, 0.0, 0.0, 0.0, 0.0, 0.0, 1.0, 1.0, 0.0, 1.0, 0.0, 0.0, 1.0, 0.0, 0.0, 0.0, 0.0, 1.0, 0.0, 0.0, 0.0, 0.0, 1.0, 0.0, 1.0, 1.0, 0.0, 0.0, 0.0, 1.0, 0.0, 0.0, 0.0, 0.0, 1.0, 0.0, 1.0, 1.0, 1.0, 0.0, 0.0, 0.0, 1.0, 0.0, 1.0, 1.0, 1.0, 1.0, 1.0, 0.0, 0.0, 0.0, 0.0, 0.0, 1.0, 0.0, 0.0, 0.0, 0.0, 0.0, 0.0, 0.0, 1.0, 0.0, 0.0, 0.0, 0.0, 1.0, 0.0, 1.0, 1.0, 0.0, 0.0, 0.0, 1.0, 1.0, 0.0, 0.0, 0.0, 0.0, 0.0, 0.0, 0.0, 0.0, 0.0, 0.0, 0.0, 1.0, 1.0, 1.0, 1.0, 0.0, 0.0, 0.0, 0.0, 0.0, 1.0, 0.0, 0.0, 0.0, 1.0, 1.0, 0.0, 0.0, 0.0, 0.0, 0.0, 0.0, 1.0, 1.0, 0.0, 0.0, 0.0, 1.0, 0.0, 0.0, 0.0, 0.0, 1.0, 0.0, 1.0, 0.0, 0.0, 0.0, 0.0, 1.0, 0.0, 1.0, 0.0, 0.0, 0.0, 1.0, 0.0, 0.0, 0.0, 0.0, 0.0, 0.0, 1.0, 0.0, 0.0, 0.0, 0.0, 0.0, 0.0, 1.0, 0.0, 0.0, 0.0, 0.0, 0.0, 0.0, 0.0, 1.0, 0.0, 0.0, 1.0, 0.0, 0.0, 0.0, 0.0, 0.0, 0.0, 0.0, 0.0, 0.0, 1.0, 0.0, 1.0, 1.0, 0.0, 0.0, 0.0, 0.0, 0.0, 0.0, 0.0, 0.0, 1.0, 1.0, 0.0, 0.0, 1.0, 0.0, 0.0, 0.0, 0.0, 0.0, 0.0, 1.0, 1.0, 0.0, 0.0, 0.0, 0.0, 1.0, 0.0, 1.0, 1.0, 0.0, 1.0, 0.0, 1.0, 0.0, 1.0, 0.0, 1.0, 0.0, 0.0, 0.0, 0.0, 1.0, 0.0, 1.0, 0.0, 0.0, 1.0, 0.0, 0.0, 1.0, 1.0, 0.0, 1.0, 0.0, 0.0, 1.0, 0.0, 0.0, 1.0, 0.0, 1.0, 0.0, 1.0, 0.0, 0.0, 0.0, 0.0, 0.0, 0.0, 0.0, 1.0, 0.0, 0.0, 1.0, 0.0, 0.0, 1.0, 0.0, 0.0, 0.0, 0.0, 0.0, 0.0, 1.0, 0.0, 1.0, 0.0, 0.0, 0.0, 0.0, 0.0, 0.0, 0.0, 1.0, 0.0, 0.0, 0.0, 0.0, 0.0, 1.0, 0.0, 0.0, 0.0, 0.0, 0.0, 0.0, 0.0, 1.0, 0.0, 0.0, 0.0, 1.0, 1.0, 0.0, 1.0, 0.0, 1.0, 0.0, 0.0, 0.0, 1.0, 0.0, 1.0, 0.0, 0.0, 0.0, 1.0, 0.0, 1.0, 0.0, 0.0, 0.0, 1.0, 0.0, 0.0, 1.0, 1.0, 0.0, 0.0, 0.0, 0.0, 0.0, 0.0, 0.0, 1.0, 0.0, 1.0, 0.0, 0.0, 0.0, 1.0, 0.0, 0.0, 1.0, 0.0, 0.0, 1.0, 0.0, 0.0, 0.0, 0.0, 0.0, 1.0, 0.0, 1.0, 1.0, 0.0, 1.0, 0.0, 1.0, 0.0, 1.0, 0.0, 0.0, 0.0, 0.0, 1.0, 1.0, 0.0, 0.0, 1.0, 0.0, 0.0, 0.0, 0.0, 0.0, 0.0, 0.0, 1.0, 1.0, 0.0, 0.0, 0.0, 0.0, 0.0, 0.0, 1.0, 0.0, 1.0, 0.0, 0.0, 1.0, 0.0, 1.0, 1.0, 0.0, 0.0, 0.0, 0.0, 1.0, 0.0, 0.0, 0.0, 0.0, 0.0, 1.0, 0.0, 0.0, 0.0, 0.0, 0.0, 0.0, 0.0, 0.0, 0.0, 1.0, 0.0, 0.0, 1.0, 0.0, 0.0, 0.0, 0.0, 1.0, 1.0, 0.0, 0.0, 0.0, 0.0, 0.0, 1.0, 1.0, 1.0, 0.0, 0.0, 1.0, 0.0, 0.0, 0.0, 0.0, 0.0, 1.0, 0.0, 0.0, 0.0, 0.0, 0.0, 0.0, 0.0, 0.0, 0.0, 0.0, 1.0, 0.0, 0.0, 0.0, 1.0, 0.0, 1.0, 0.0, 0.0, 0.0, 0.0, 0.0, 1.0, 0.0, 1.0, 0.0, 0.0, 0.0, 0.0, 0.0, 0.0, 0.0, 0.0, 0.0, 0.0, 1.0, 0.0, 0.0, 0.0, 0.0, 0.0, 0.0, 0.0, 0.0, 0.0, 1.0, 0.0, 0.0, 0.0, 0.0, 0.0, 0.0, 0.0, 0.0, 0.0, 0.0, 0.0, 0.0, 0.0, 1.0, 0.0, 0.0, 0.0, 0.0, 1.0, 0.0, 0.0, 1.0, 0.0, 0.0, 0.0, 1.0, 0.0, 1.0, 0.0, 0.0, 0.0, 0.0, 1.0, 1.0, 1.0, 0.0, 1.0, 1.0, 0.0, 1.0, 0.0, 0.0, 0.0, 1.0, 0.0, 0.0, 0.0, 0.0, 0.0, 0.0, 1.0, 1.0, 0.0, 0.0, 1.0, 1.0, 0.0, 1.0, 0.0, 0.0, 0.0, 0.0, 0.0, 0.0, 0.0, 1.0, 0.0, 0.0, 1.0, 1.0, 0.0, 0.0, 0.0, 0.0, 0.0, 0.0, 0.0, 0.0, 0.0, 1.0, 0.0, 1.0, 0.0, 0.0, 0.0, 1.0, 0.0, 1.0, 0.0, 0.0, 0.0, 0.0, 0.0, 0.0, 0.0, 0.0, 1.0, 0.0, 0.0, 0.0, 1.0, 0.0, 0.0, 0.0, 0.0, 0.0, 1.0, 0.0, 1.0, 1.0, 0.0, 0.0, 0.0, 0.0, 1.0, 0.0, 0.0, 0.0, 0.0, 1.0, 1.0, 0.0, 0.0, 0.0, 0.0, 0.0, 0.0, 0.0, 1.0, 1.0, 0.0, 0.0, 0.0, 1.0, 0.0, 1.0, 0.0, 0.0, 0.0, 0.0, 0.0, 1.0, 0.0, 0.0, 0.0, 1.0, 1.0, 0.0, 1.0, 0.0, 0.0, 1.0, 0.0, 0.0, 0.0, 0.0, 0.0, 0.0, 0.0, 1.0, 0.0, 0.0, 1.0, 0.0, 0.0, 0.0, 0.0, 1.0, 0.0, 1.0, 0.0, 1.0, 0.0, 0.0, 0.0, 0.0, 0.0, 0.0, 0.0, 1.0, 0.0, 1.0, 0.0, 0.0, 0.0, 0.0, 0.0, 0.0, 0.0, 1.0, 0.0, 0.0, 0.0, 0.0, 1.0, 1.0, 0.0, 0.0, 0.0, 1.0, 0.0, 1.0, 1.0, 0.0, 0.0, 0.0, 0.0, 1.0, 1.0, 1.0, 0.0, 1.0, 0.0, 0.0, 0.0, 0.0, 0.0, 1.0, 0.0, 0.0, 0.0, 0.0, 1.0, 0.0, 0.0, 1.0, 0.0, 1.0, 1.0, 0.0, 0.0, 0.0, 0.0, 1.0, 0.0, 0.0, 0.0, 0.0, 0.0, 0.0, 1.0, 1.0, 0.0, 0.0, 1.0, 1.0, 0.0, 0.0, 1.0, 0.0, 1.0, 1.0, 0.0, 0.0, 0.0, 1.0, 1.0, 1.0, 1.0, 0.0, 0.0, 1.0, 0.0, 0.0, 1.0, 0.0, 0.0, 1.0, 1.0, 0.0, 0.0, 0.0, 0.0, 0.0, 0.0, 0.0, 1.0, 1.0, 1.0, 0.0, 1.0, 0.0, 0.0, 1.0, 1.0, 0.0, 0.0, 0.0, 1.0, 1.0, 0.0, 1.0, 0.0, 0.0, 0.0, 0.0, 0.0, 0.0, 0.0, 1.0, 0.0, 1.0, 0.0, 0.0, 1.0, 1.0, 0.0, 0.0, 0.0, 0.0, 0.0, 0.0, 0.0, 0.0, 1.0, 1.0, 0.0, 0.0, 1.0, 0.0, 0.0, 0.0, 0.0, 0.0, 0.0, 1.0, 0.0, 0.0, 1.0, 0.0, 0.0, 0.0, 0.0, 1.0, 0.0, 0.0, 1.0, 0.0, 0.0, 0.0, 0.0, 0.0, 0.0, 0.0, 0.0, 0.0, 0.0, 0.0, 1.0, 0.0, 0.0, 0.0, 1.0, 0.0, 0.0, 0.0, 0.0, 1.0, 1.0, 0.0, 0.0, 1.0, 0.0, 0.0, 0.0, 0.0, 0.0, 0.0, 0.0, 1.0, 0.0, 0.0, 1.0, 0.0, 1.0, 0.0, 1.0, 0.0, 1.0, 0.0, 1.0, 0.0, 0.0, 0.0, 1.0, 1.0, 0.0, 0.0, 0.0, 1.0, 1.0, 1.0, 0.0, 0.0, 1.0, 0.0, 0.0, 0.0, 0.0, 1.0, 1.0, 0.0, 0.0, 0.0, 0.0, 0.0, 0.0, 0.0, 0.0, 0.0, 0.0, 0.0, 0.0, 0.0, 0.0, 0.0, 0.0, 0.0, 1.0, 0.0, 1.0, 0.0, 0.0, 0.0, 0.0, 0.0, 1.0, 0.0, 0.0, 1.0, 1.0, 0.0, 1.0, 0.0, 1.0, 0.0, 0.0, 0.0, 0.0, 0.0, 1.0, 0.0, 0.0, 0.0, 0.0, 0.0, 0.0, 0.0, 1.0, 1.0, 1.0, 1.0, 0.0, 0.0, 0.0, 1.0, 0.0, 1.0, 0.0, 0.0, 0.0, 1.0, 0.0, 0.0, 0.0, 1.0, 0.0, 0.0, 0.0, 0.0, 0.0, 0.0, 0.0, 1.0, 0.0, 0.0, 1.0, 0.0, 0.0, 1.0, 0.0, 0.0, 0.0, 0.0, 0.0, 1.0, 1.0, 0.0, 0.0, 0.0, 1.0, 0.0, 1.0, 0.0, 0.0, 0.0, 0.0, 0.0, 0.0, 0.0, 0.0, 0.0, 0.0, 1.0, 0.0, 0.0, 1.0, 0.0, 0.0, 0.0, 0.0, 0.0, 1.0, 1.0, 0.0, 0.0, 0.0, 0.0, 1.0, 0.0, 0.0, 0.0, 1.0, 0.0, 1.0, 0.0, 0.0, 0.0, 0.0, 0.0, 0.0, 1.0, 1.0, 1.0, 0.0, 0.0, 1.0, 0.0, 1.0, 1.0, 0.0, 1.0, 1.0, 0.0, 1.0, 0.0, 1.0, 0.0, 1.0, 0.0, 1.0, 0.0, 0.0, 0.0, 0.0, 0.0, 1.0, 1.0, 0.0, 1.0, 0.0, 0.0, 0.0, 0.0, 0.0, 0.0, 0.0, 1.0, 1.0, 0.0, 0.0, 0.0, 0.0, 0.0, 0.0, 0.0, 0.0, 0.0, 0.0, 0.0, 1.0, 0.0, 0.0, 0.0, 0.0, 0.0, 0.0, 0.0, 1.0, 0.0, 0.0, 0.0, 0.0, 0.0, 0.0, 0.0, 0.0, 0.0, 1.0, 0.0, 0.0, 1.0, 1.0, 0.0, 0.0, 0.0, 0.0, 0.0, 0.0, 0.0, 0.0, 1.0, 1.0, 0.0, 0.0, 0.0, 1.0, 1.0, 0.0, 1.0, 1.0, 0.0, 0.0, 0.0, 0.0, 1.0, 1.0, 0.0, 0.0, 0.0, 0.0, 0.0, 1.0, 0.0, 0.0, 0.0, 0.0, 0.0, 0.0, 0.0, 1.0, 0.0, 1.0, 0.0, 0.0, 0.0, 0.0, 0.0, 0.0, 0.0, 0.0, 1.0, 0.0, 1.0, 1.0, 0.0, 1.0, 1.0, 1.0, 0.0, 0.0, 0.0, 1.0, 0.0, 0.0, 0.0, 0.0, 0.0, 0.0, 0.0, 1.0, 0.0, 0.0, 1.0, 0.0, 0.0, 0.0, 0.0, 0.0, 1.0, 0.0, 1.0, 1.0, 0.0, 1.0, 1.0, 0.0, 0.0, 0.0, 0.0, 1.0, 0.0, 1.0, 0.0, 0.0, 1.0, 1.0, 1.0, 0.0, 0.0, 0.0, 0.0, 0.0, 0.0, 0.0, 0.0, 1.0, 0.0, 0.0, 1.0, 0.0, 0.0, 0.0, 1.0, 0.0, 0.0, 1.0, 0.0, 0.0, 0.0, 0.0, 1.0, 0.0, 0.0, 0.0, 0.0, 0.0, 0.0, 1.0, 0.0, 0.0, 0.0, 0.0, 0.0, 0.0, 0.0, 0.0, 0.0, 1.0, 1.0, 0.0, 0.0, 1.0, 1.0, 1.0, 0.0, 0.0, 1.0, 0.0, 1.0, 1.0]\n"
     ]
    }
   ],
   "source": [
    "print(test_preds)"
   ]
  },
  {
   "cell_type": "code",
   "execution_count": null,
   "id": "1fabecba",
   "metadata": {},
   "outputs": [],
   "source": []
  }
 ],
 "metadata": {
  "kernelspec": {
   "display_name": "Python 3 (ipykernel)",
   "language": "python",
   "name": "python3"
  },
  "language_info": {
   "codemirror_mode": {
    "name": "ipython",
    "version": 3
   },
   "file_extension": ".py",
   "mimetype": "text/x-python",
   "name": "python",
   "nbconvert_exporter": "python",
   "pygments_lexer": "ipython3",
   "version": "3.9.13"
  }
 },
 "nbformat": 4,
 "nbformat_minor": 5
}
